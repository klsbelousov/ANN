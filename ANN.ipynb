{
 "cells": [
  {
   "cell_type": "code",
   "execution_count": 1,
   "id": "a6307b76-1296-40a4-99e0-271153817cdb",
   "metadata": {},
   "outputs": [],
   "source": [
    "### import basic libs\n",
    "import pandas as pd\n",
    "import numpy as np\n",
    "import matplotlib.pyplot as plt\n",
    "import seaborn as sns"
   ]
  },
  {
   "cell_type": "code",
   "execution_count": 2,
   "id": "b7c4485a-1bf2-431e-bc36-9e2e6208bbe6",
   "metadata": {},
   "outputs": [],
   "source": [
    "import tensorflow as tf"
   ]
  },
  {
   "cell_type": "code",
   "execution_count": 3,
   "id": "f1fbc262-9187-431f-87bc-93e84f126ecd",
   "metadata": {},
   "outputs": [
    {
     "name": "stdout",
     "output_type": "stream",
     "text": [
      "2.16.1\n"
     ]
    }
   ],
   "source": [
    "print(tf.__version__)"
   ]
  },
  {
   "cell_type": "code",
   "execution_count": 4,
   "id": "9e63878f-31c1-4168-b0f4-f7501daf9fd5",
   "metadata": {},
   "outputs": [],
   "source": [
    "df = pd.read_csv('Churn_Modelling.csv')"
   ]
  },
  {
   "cell_type": "code",
   "execution_count": 5,
   "id": "d30016b0-9c0b-4303-9bd7-da1d09ffa543",
   "metadata": {},
   "outputs": [
    {
     "data": {
      "text/html": [
       "<div>\n",
       "<style scoped>\n",
       "    .dataframe tbody tr th:only-of-type {\n",
       "        vertical-align: middle;\n",
       "    }\n",
       "\n",
       "    .dataframe tbody tr th {\n",
       "        vertical-align: top;\n",
       "    }\n",
       "\n",
       "    .dataframe thead th {\n",
       "        text-align: right;\n",
       "    }\n",
       "</style>\n",
       "<table border=\"1\" class=\"dataframe\">\n",
       "  <thead>\n",
       "    <tr style=\"text-align: right;\">\n",
       "      <th></th>\n",
       "      <th>RowNumber</th>\n",
       "      <th>CustomerId</th>\n",
       "      <th>Surname</th>\n",
       "      <th>CreditScore</th>\n",
       "      <th>Geography</th>\n",
       "      <th>Gender</th>\n",
       "      <th>Age</th>\n",
       "      <th>Tenure</th>\n",
       "      <th>Balance</th>\n",
       "      <th>NumOfProducts</th>\n",
       "      <th>HasCrCard</th>\n",
       "      <th>IsActiveMember</th>\n",
       "      <th>EstimatedSalary</th>\n",
       "      <th>Exited</th>\n",
       "    </tr>\n",
       "  </thead>\n",
       "  <tbody>\n",
       "    <tr>\n",
       "      <th>0</th>\n",
       "      <td>1</td>\n",
       "      <td>15634602</td>\n",
       "      <td>Hargrave</td>\n",
       "      <td>619</td>\n",
       "      <td>France</td>\n",
       "      <td>Female</td>\n",
       "      <td>42</td>\n",
       "      <td>2</td>\n",
       "      <td>0.00</td>\n",
       "      <td>1</td>\n",
       "      <td>1</td>\n",
       "      <td>1</td>\n",
       "      <td>101348.88</td>\n",
       "      <td>1</td>\n",
       "    </tr>\n",
       "    <tr>\n",
       "      <th>1</th>\n",
       "      <td>2</td>\n",
       "      <td>15647311</td>\n",
       "      <td>Hill</td>\n",
       "      <td>608</td>\n",
       "      <td>Spain</td>\n",
       "      <td>Female</td>\n",
       "      <td>41</td>\n",
       "      <td>1</td>\n",
       "      <td>83807.86</td>\n",
       "      <td>1</td>\n",
       "      <td>0</td>\n",
       "      <td>1</td>\n",
       "      <td>112542.58</td>\n",
       "      <td>0</td>\n",
       "    </tr>\n",
       "    <tr>\n",
       "      <th>2</th>\n",
       "      <td>3</td>\n",
       "      <td>15619304</td>\n",
       "      <td>Onio</td>\n",
       "      <td>502</td>\n",
       "      <td>France</td>\n",
       "      <td>Female</td>\n",
       "      <td>42</td>\n",
       "      <td>8</td>\n",
       "      <td>159660.80</td>\n",
       "      <td>3</td>\n",
       "      <td>1</td>\n",
       "      <td>0</td>\n",
       "      <td>113931.57</td>\n",
       "      <td>1</td>\n",
       "    </tr>\n",
       "    <tr>\n",
       "      <th>3</th>\n",
       "      <td>4</td>\n",
       "      <td>15701354</td>\n",
       "      <td>Boni</td>\n",
       "      <td>699</td>\n",
       "      <td>France</td>\n",
       "      <td>Female</td>\n",
       "      <td>39</td>\n",
       "      <td>1</td>\n",
       "      <td>0.00</td>\n",
       "      <td>2</td>\n",
       "      <td>0</td>\n",
       "      <td>0</td>\n",
       "      <td>93826.63</td>\n",
       "      <td>0</td>\n",
       "    </tr>\n",
       "    <tr>\n",
       "      <th>4</th>\n",
       "      <td>5</td>\n",
       "      <td>15737888</td>\n",
       "      <td>Mitchell</td>\n",
       "      <td>850</td>\n",
       "      <td>Spain</td>\n",
       "      <td>Female</td>\n",
       "      <td>43</td>\n",
       "      <td>2</td>\n",
       "      <td>125510.82</td>\n",
       "      <td>1</td>\n",
       "      <td>1</td>\n",
       "      <td>1</td>\n",
       "      <td>79084.10</td>\n",
       "      <td>0</td>\n",
       "    </tr>\n",
       "  </tbody>\n",
       "</table>\n",
       "</div>"
      ],
      "text/plain": [
       "   RowNumber  CustomerId   Surname  CreditScore Geography  Gender  Age  \\\n",
       "0          1    15634602  Hargrave          619    France  Female   42   \n",
       "1          2    15647311      Hill          608     Spain  Female   41   \n",
       "2          3    15619304      Onio          502    France  Female   42   \n",
       "3          4    15701354      Boni          699    France  Female   39   \n",
       "4          5    15737888  Mitchell          850     Spain  Female   43   \n",
       "\n",
       "   Tenure    Balance  NumOfProducts  HasCrCard  IsActiveMember  \\\n",
       "0       2       0.00              1          1               1   \n",
       "1       1   83807.86              1          0               1   \n",
       "2       8  159660.80              3          1               0   \n",
       "3       1       0.00              2          0               0   \n",
       "4       2  125510.82              1          1               1   \n",
       "\n",
       "   EstimatedSalary  Exited  \n",
       "0        101348.88       1  \n",
       "1        112542.58       0  \n",
       "2        113931.57       1  \n",
       "3         93826.63       0  \n",
       "4         79084.10       0  "
      ]
     },
     "execution_count": 5,
     "metadata": {},
     "output_type": "execute_result"
    }
   ],
   "source": [
    "df.head()"
   ]
  },
  {
   "cell_type": "code",
   "execution_count": 6,
   "id": "850caecc-12e0-432b-9f42-5463f61f2326",
   "metadata": {},
   "outputs": [],
   "source": [
    "## Divide df into independent n dependent features\n",
    "\n",
    "X = df.iloc[:, 3:-1]\n",
    "y = df.iloc[:, -1]"
   ]
  },
  {
   "cell_type": "code",
   "execution_count": 7,
   "id": "2fad083d-3f04-42db-85c3-d8d1a07d8a36",
   "metadata": {},
   "outputs": [
    {
     "data": {
      "text/html": [
       "<div>\n",
       "<style scoped>\n",
       "    .dataframe tbody tr th:only-of-type {\n",
       "        vertical-align: middle;\n",
       "    }\n",
       "\n",
       "    .dataframe tbody tr th {\n",
       "        vertical-align: top;\n",
       "    }\n",
       "\n",
       "    .dataframe thead th {\n",
       "        text-align: right;\n",
       "    }\n",
       "</style>\n",
       "<table border=\"1\" class=\"dataframe\">\n",
       "  <thead>\n",
       "    <tr style=\"text-align: right;\">\n",
       "      <th></th>\n",
       "      <th>CreditScore</th>\n",
       "      <th>Geography</th>\n",
       "      <th>Gender</th>\n",
       "      <th>Age</th>\n",
       "      <th>Tenure</th>\n",
       "      <th>Balance</th>\n",
       "      <th>NumOfProducts</th>\n",
       "      <th>HasCrCard</th>\n",
       "      <th>IsActiveMember</th>\n",
       "      <th>EstimatedSalary</th>\n",
       "    </tr>\n",
       "  </thead>\n",
       "  <tbody>\n",
       "    <tr>\n",
       "      <th>0</th>\n",
       "      <td>619</td>\n",
       "      <td>France</td>\n",
       "      <td>Female</td>\n",
       "      <td>42</td>\n",
       "      <td>2</td>\n",
       "      <td>0.00</td>\n",
       "      <td>1</td>\n",
       "      <td>1</td>\n",
       "      <td>1</td>\n",
       "      <td>101348.88</td>\n",
       "    </tr>\n",
       "    <tr>\n",
       "      <th>1</th>\n",
       "      <td>608</td>\n",
       "      <td>Spain</td>\n",
       "      <td>Female</td>\n",
       "      <td>41</td>\n",
       "      <td>1</td>\n",
       "      <td>83807.86</td>\n",
       "      <td>1</td>\n",
       "      <td>0</td>\n",
       "      <td>1</td>\n",
       "      <td>112542.58</td>\n",
       "    </tr>\n",
       "    <tr>\n",
       "      <th>2</th>\n",
       "      <td>502</td>\n",
       "      <td>France</td>\n",
       "      <td>Female</td>\n",
       "      <td>42</td>\n",
       "      <td>8</td>\n",
       "      <td>159660.80</td>\n",
       "      <td>3</td>\n",
       "      <td>1</td>\n",
       "      <td>0</td>\n",
       "      <td>113931.57</td>\n",
       "    </tr>\n",
       "    <tr>\n",
       "      <th>3</th>\n",
       "      <td>699</td>\n",
       "      <td>France</td>\n",
       "      <td>Female</td>\n",
       "      <td>39</td>\n",
       "      <td>1</td>\n",
       "      <td>0.00</td>\n",
       "      <td>2</td>\n",
       "      <td>0</td>\n",
       "      <td>0</td>\n",
       "      <td>93826.63</td>\n",
       "    </tr>\n",
       "    <tr>\n",
       "      <th>4</th>\n",
       "      <td>850</td>\n",
       "      <td>Spain</td>\n",
       "      <td>Female</td>\n",
       "      <td>43</td>\n",
       "      <td>2</td>\n",
       "      <td>125510.82</td>\n",
       "      <td>1</td>\n",
       "      <td>1</td>\n",
       "      <td>1</td>\n",
       "      <td>79084.10</td>\n",
       "    </tr>\n",
       "  </tbody>\n",
       "</table>\n",
       "</div>"
      ],
      "text/plain": [
       "   CreditScore Geography  Gender  Age  Tenure    Balance  NumOfProducts  \\\n",
       "0          619    France  Female   42       2       0.00              1   \n",
       "1          608     Spain  Female   41       1   83807.86              1   \n",
       "2          502    France  Female   42       8  159660.80              3   \n",
       "3          699    France  Female   39       1       0.00              2   \n",
       "4          850     Spain  Female   43       2  125510.82              1   \n",
       "\n",
       "   HasCrCard  IsActiveMember  EstimatedSalary  \n",
       "0          1               1        101348.88  \n",
       "1          0               1        112542.58  \n",
       "2          1               0        113931.57  \n",
       "3          0               0         93826.63  \n",
       "4          1               1         79084.10  "
      ]
     },
     "execution_count": 7,
     "metadata": {},
     "output_type": "execute_result"
    }
   ],
   "source": [
    "X.head()"
   ]
  },
  {
   "cell_type": "code",
   "execution_count": 8,
   "id": "b48882d5-4995-4101-af1f-995b32ed8aa0",
   "metadata": {
    "scrolled": true
   },
   "outputs": [
    {
     "data": {
      "text/plain": [
       "Exited\n",
       "0    7963\n",
       "1    2037\n",
       "Name: count, dtype: int64"
      ]
     },
     "execution_count": 8,
     "metadata": {},
     "output_type": "execute_result"
    }
   ],
   "source": [
    "y.value_counts()"
   ]
  },
  {
   "cell_type": "code",
   "execution_count": 9,
   "id": "b66be45b-272e-45f5-994e-cee9249d06e4",
   "metadata": {},
   "outputs": [],
   "source": [
    "### Feature engineering\n",
    "\n",
    "geography = pd.get_dummies(X['Geography'], drop_first=True)\n",
    "gender = pd.get_dummies(X['Gender'], drop_first=True)"
   ]
  },
  {
   "cell_type": "code",
   "execution_count": 10,
   "id": "ba2407f3-b309-490e-b26b-cd166c5fc3ef",
   "metadata": {
    "scrolled": true
   },
   "outputs": [],
   "source": [
    "### concatenate these variables with dataframe\n",
    "\n",
    "X.drop(['Geography', 'Gender'], axis=1, inplace=True)\n",
    "X = pd.concat([X, gender, geography], axis=1)"
   ]
  },
  {
   "cell_type": "code",
   "execution_count": 11,
   "id": "653719a1-8441-4370-afe3-fb4fc5952760",
   "metadata": {},
   "outputs": [],
   "source": [
    "binaries = {True: 1, False:0}\n",
    "X.replace(binaries, inplace=True)"
   ]
  },
  {
   "cell_type": "code",
   "execution_count": 12,
   "id": "a22968ac-76dd-46b8-bfce-dfbedb5a0d90",
   "metadata": {},
   "outputs": [
    {
     "data": {
      "text/html": [
       "<div>\n",
       "<style scoped>\n",
       "    .dataframe tbody tr th:only-of-type {\n",
       "        vertical-align: middle;\n",
       "    }\n",
       "\n",
       "    .dataframe tbody tr th {\n",
       "        vertical-align: top;\n",
       "    }\n",
       "\n",
       "    .dataframe thead th {\n",
       "        text-align: right;\n",
       "    }\n",
       "</style>\n",
       "<table border=\"1\" class=\"dataframe\">\n",
       "  <thead>\n",
       "    <tr style=\"text-align: right;\">\n",
       "      <th></th>\n",
       "      <th>CreditScore</th>\n",
       "      <th>Age</th>\n",
       "      <th>Tenure</th>\n",
       "      <th>Balance</th>\n",
       "      <th>NumOfProducts</th>\n",
       "      <th>HasCrCard</th>\n",
       "      <th>IsActiveMember</th>\n",
       "      <th>EstimatedSalary</th>\n",
       "      <th>Male</th>\n",
       "      <th>Germany</th>\n",
       "      <th>Spain</th>\n",
       "    </tr>\n",
       "  </thead>\n",
       "  <tbody>\n",
       "    <tr>\n",
       "      <th>0</th>\n",
       "      <td>619</td>\n",
       "      <td>42</td>\n",
       "      <td>2</td>\n",
       "      <td>0.00</td>\n",
       "      <td>1</td>\n",
       "      <td>1</td>\n",
       "      <td>1</td>\n",
       "      <td>101348.88</td>\n",
       "      <td>0</td>\n",
       "      <td>0</td>\n",
       "      <td>0</td>\n",
       "    </tr>\n",
       "    <tr>\n",
       "      <th>1</th>\n",
       "      <td>608</td>\n",
       "      <td>41</td>\n",
       "      <td>1</td>\n",
       "      <td>83807.86</td>\n",
       "      <td>1</td>\n",
       "      <td>0</td>\n",
       "      <td>1</td>\n",
       "      <td>112542.58</td>\n",
       "      <td>0</td>\n",
       "      <td>0</td>\n",
       "      <td>1</td>\n",
       "    </tr>\n",
       "    <tr>\n",
       "      <th>2</th>\n",
       "      <td>502</td>\n",
       "      <td>42</td>\n",
       "      <td>8</td>\n",
       "      <td>159660.80</td>\n",
       "      <td>3</td>\n",
       "      <td>1</td>\n",
       "      <td>0</td>\n",
       "      <td>113931.57</td>\n",
       "      <td>0</td>\n",
       "      <td>0</td>\n",
       "      <td>0</td>\n",
       "    </tr>\n",
       "    <tr>\n",
       "      <th>3</th>\n",
       "      <td>699</td>\n",
       "      <td>39</td>\n",
       "      <td>1</td>\n",
       "      <td>0.00</td>\n",
       "      <td>2</td>\n",
       "      <td>0</td>\n",
       "      <td>0</td>\n",
       "      <td>93826.63</td>\n",
       "      <td>0</td>\n",
       "      <td>0</td>\n",
       "      <td>0</td>\n",
       "    </tr>\n",
       "    <tr>\n",
       "      <th>4</th>\n",
       "      <td>850</td>\n",
       "      <td>43</td>\n",
       "      <td>2</td>\n",
       "      <td>125510.82</td>\n",
       "      <td>1</td>\n",
       "      <td>1</td>\n",
       "      <td>1</td>\n",
       "      <td>79084.10</td>\n",
       "      <td>0</td>\n",
       "      <td>0</td>\n",
       "      <td>1</td>\n",
       "    </tr>\n",
       "  </tbody>\n",
       "</table>\n",
       "</div>"
      ],
      "text/plain": [
       "   CreditScore  Age  Tenure    Balance  NumOfProducts  HasCrCard  \\\n",
       "0          619   42       2       0.00              1          1   \n",
       "1          608   41       1   83807.86              1          0   \n",
       "2          502   42       8  159660.80              3          1   \n",
       "3          699   39       1       0.00              2          0   \n",
       "4          850   43       2  125510.82              1          1   \n",
       "\n",
       "   IsActiveMember  EstimatedSalary  Male  Germany  Spain  \n",
       "0               1        101348.88     0        0      0  \n",
       "1               1        112542.58     0        0      1  \n",
       "2               0        113931.57     0        0      0  \n",
       "3               0         93826.63     0        0      0  \n",
       "4               1         79084.10     0        0      1  "
      ]
     },
     "execution_count": 12,
     "metadata": {},
     "output_type": "execute_result"
    }
   ],
   "source": [
    "X.head()"
   ]
  },
  {
   "cell_type": "code",
   "execution_count": 13,
   "id": "9be34518-29cd-4a3f-9bad-21b48d25e3cb",
   "metadata": {},
   "outputs": [],
   "source": [
    "## Spliting dataset into train n test split\n",
    "from sklearn.model_selection import train_test_split\n",
    "\n",
    "X_train, X_test, y_train, y_test = train_test_split(X, y, test_size=0.2, random_state=13)"
   ]
  },
  {
   "cell_type": "code",
   "execution_count": 14,
   "id": "52853ed7-8a00-4a8c-b23e-db797e7dfa99",
   "metadata": {},
   "outputs": [],
   "source": [
    "## feature scaling\n",
    "\n",
    "from sklearn.preprocessing import StandardScaler\n",
    "\n",
    "scaler = StandardScaler()\n",
    "X_train = scaler.fit_transform(X_train)\n",
    "X_test = scaler.fit_transform(X_test)"
   ]
  },
  {
   "cell_type": "code",
   "execution_count": 15,
   "id": "382decbd-4a88-4d30-afbb-a63203c50950",
   "metadata": {},
   "outputs": [
    {
     "data": {
      "text/plain": [
       "(8000, 11)"
      ]
     },
     "execution_count": 15,
     "metadata": {},
     "output_type": "execute_result"
    }
   ],
   "source": [
    "X_train.shape"
   ]
  },
  {
   "cell_type": "code",
   "execution_count": 16,
   "id": "4152a153-9cea-4d19-96fc-80a0264546ba",
   "metadata": {},
   "outputs": [
    {
     "data": {
      "text/plain": [
       "(2000, 11)"
      ]
     },
     "execution_count": 16,
     "metadata": {},
     "output_type": "execute_result"
    }
   ],
   "source": [
    "X_test.shape"
   ]
  },
  {
   "cell_type": "markdown",
   "id": "ed546bc9-ea8e-435c-a764-e7be9004a588",
   "metadata": {},
   "source": [
    "_____"
   ]
  },
  {
   "cell_type": "markdown",
   "id": "1d43ddef-8935-4c06-867b-c6d2284da030",
   "metadata": {},
   "source": [
    "### Part 2"
   ]
  },
  {
   "cell_type": "markdown",
   "id": "be4d89d9-612d-452d-91b7-85d71fc8d6a8",
   "metadata": {},
   "source": [
    "____"
   ]
  },
  {
   "cell_type": "code",
   "execution_count": 17,
   "id": "46628668-56d5-456e-8e33-2a40b01998ed",
   "metadata": {},
   "outputs": [],
   "source": [
    "from tensorflow.keras.models import Sequential\n",
    "from tensorflow.keras.layers import Dense, LeakyReLU, PReLU, ELU, ReLU\n",
    "from tensorflow.keras.layers import Dropout"
   ]
  },
  {
   "cell_type": "code",
   "execution_count": 18,
   "id": "789c06ba-9d0f-4898-97ef-e631424f9578",
   "metadata": {},
   "outputs": [],
   "source": [
    "### Lets inintialize the ANN\n",
    "\n",
    "classifier = Sequential()"
   ]
  },
  {
   "cell_type": "code",
   "execution_count": 19,
   "id": "d2277b96-62d5-4554-a989-2c01bb573e1a",
   "metadata": {},
   "outputs": [],
   "source": [
    "### Adding the input layer\n",
    "\n",
    "classifier.add(Dense(units=11, activation='relu'))\n",
    "\n",
    "## units – number of input features\n",
    "## activation – activation function for layer"
   ]
  },
  {
   "cell_type": "code",
   "execution_count": 20,
   "id": "7d0f6dd5-64e8-40cf-9924-554cab2fea77",
   "metadata": {},
   "outputs": [],
   "source": [
    "## Adding first hidden layer\n",
    "\n",
    "classifier.add(Dense(units=7, activation='relu'))"
   ]
  },
  {
   "cell_type": "code",
   "execution_count": 45,
   "id": "0660e70b-338d-4dec-8109-30baeaf989fd",
   "metadata": {},
   "outputs": [],
   "source": [
    "## Adding second hidden layer\n",
    "\n",
    "classifier.add(Dense(units=6, activation='relu'))\n",
    "classifier.add(Dropout(rate=0.25))"
   ]
  },
  {
   "cell_type": "code",
   "execution_count": 46,
   "id": "f461fa4c-eaf0-4523-b15a-582eee45ccd3",
   "metadata": {},
   "outputs": [],
   "source": [
    "## Adding third hidden layer\n",
    "\n",
    "classifier.add(Dense(units=10, activation='relu'))"
   ]
  },
  {
   "cell_type": "code",
   "execution_count": 47,
   "id": "5bd9043f-1b32-490b-a457-5b51f87a6ccd",
   "metadata": {},
   "outputs": [],
   "source": [
    "## Adding output layer\n",
    "\n",
    "classifier.add(Dense(units=1, activation='sigmoid'))"
   ]
  },
  {
   "cell_type": "code",
   "execution_count": 48,
   "id": "dac44a6e-a1ac-47b0-916a-1a3d19684166",
   "metadata": {},
   "outputs": [],
   "source": [
    "import tensorflow\n",
    "\n",
    "opt = tensorflow.keras.optimizers.Adam(learning_rate=0.01)"
   ]
  },
  {
   "cell_type": "code",
   "execution_count": 49,
   "id": "bcb8294e-82e3-461a-b653-253efe8792ee",
   "metadata": {},
   "outputs": [],
   "source": [
    "classifier.compile(optimizer=opt, loss='binary_crossentropy', metrics=['accuracy'])"
   ]
  },
  {
   "cell_type": "code",
   "execution_count": 50,
   "id": "ebf46309-1696-435b-8669-8a009a26abb8",
   "metadata": {},
   "outputs": [
    {
     "name": "stdout",
     "output_type": "stream",
     "text": [
      "Epoch 1/100\n",
      "\u001b[1m536/536\u001b[0m \u001b[32m━━━━━━━━━━━━━━━━━━━━\u001b[0m\u001b[37m\u001b[0m \u001b[1m1s\u001b[0m 1ms/step - accuracy: 0.8059 - loss: 0.4910 - val_accuracy: 0.8550 - val_loss: 0.3742\n",
      "Epoch 2/100\n",
      "\u001b[1m536/536\u001b[0m \u001b[32m━━━━━━━━━━━━━━━━━━━━\u001b[0m\u001b[37m\u001b[0m \u001b[1m0s\u001b[0m 550us/step - accuracy: 0.8536 - loss: 0.3628 - val_accuracy: 0.8535 - val_loss: 0.3740\n",
      "Epoch 3/100\n",
      "\u001b[1m536/536\u001b[0m \u001b[32m━━━━━━━━━━━━━━━━━━━━\u001b[0m\u001b[37m\u001b[0m \u001b[1m0s\u001b[0m 553us/step - accuracy: 0.8617 - loss: 0.3545 - val_accuracy: 0.8580 - val_loss: 0.3867\n",
      "Epoch 4/100\n",
      "\u001b[1m536/536\u001b[0m \u001b[32m━━━━━━━━━━━━━━━━━━━━\u001b[0m\u001b[37m\u001b[0m \u001b[1m0s\u001b[0m 546us/step - accuracy: 0.8608 - loss: 0.3471 - val_accuracy: 0.8614 - val_loss: 0.3735\n",
      "Epoch 5/100\n",
      "\u001b[1m536/536\u001b[0m \u001b[32m━━━━━━━━━━━━━━━━━━━━\u001b[0m\u001b[37m\u001b[0m \u001b[1m0s\u001b[0m 526us/step - accuracy: 0.8606 - loss: 0.3631 - val_accuracy: 0.8610 - val_loss: 0.3688\n",
      "Epoch 6/100\n",
      "\u001b[1m536/536\u001b[0m \u001b[32m━━━━━━━━━━━━━━━━━━━━\u001b[0m\u001b[37m\u001b[0m \u001b[1m0s\u001b[0m 533us/step - accuracy: 0.8619 - loss: 0.3441 - val_accuracy: 0.8523 - val_loss: 0.3758\n",
      "Epoch 7/100\n",
      "\u001b[1m536/536\u001b[0m \u001b[32m━━━━━━━━━━━━━━━━━━━━\u001b[0m\u001b[37m\u001b[0m \u001b[1m0s\u001b[0m 536us/step - accuracy: 0.8609 - loss: 0.3473 - val_accuracy: 0.8595 - val_loss: 0.3752\n",
      "Epoch 8/100\n",
      "\u001b[1m536/536\u001b[0m \u001b[32m━━━━━━━━━━━━━━━━━━━━\u001b[0m\u001b[37m\u001b[0m \u001b[1m0s\u001b[0m 544us/step - accuracy: 0.8711 - loss: 0.3345 - val_accuracy: 0.8519 - val_loss: 0.3807\n",
      "Epoch 9/100\n",
      "\u001b[1m536/536\u001b[0m \u001b[32m━━━━━━━━━━━━━━━━━━━━\u001b[0m\u001b[37m\u001b[0m \u001b[1m0s\u001b[0m 548us/step - accuracy: 0.8611 - loss: 0.3397 - val_accuracy: 0.8493 - val_loss: 0.3811\n",
      "Epoch 10/100\n",
      "\u001b[1m536/536\u001b[0m \u001b[32m━━━━━━━━━━━━━━━━━━━━\u001b[0m\u001b[37m\u001b[0m \u001b[1m0s\u001b[0m 532us/step - accuracy: 0.8646 - loss: 0.3312 - val_accuracy: 0.8622 - val_loss: 0.3672\n",
      "Epoch 11/100\n",
      "\u001b[1m536/536\u001b[0m \u001b[32m━━━━━━━━━━━━━━━━━━━━\u001b[0m\u001b[37m\u001b[0m \u001b[1m0s\u001b[0m 627us/step - accuracy: 0.8682 - loss: 0.3401 - val_accuracy: 0.8652 - val_loss: 0.3558\n",
      "Epoch 12/100\n",
      "\u001b[1m536/536\u001b[0m \u001b[32m━━━━━━━━━━━━━━━━━━━━\u001b[0m\u001b[37m\u001b[0m \u001b[1m0s\u001b[0m 563us/step - accuracy: 0.8574 - loss: 0.3494 - val_accuracy: 0.8523 - val_loss: 0.3774\n",
      "Epoch 13/100\n",
      "\u001b[1m536/536\u001b[0m \u001b[32m━━━━━━━━━━━━━━━━━━━━\u001b[0m\u001b[37m\u001b[0m \u001b[1m0s\u001b[0m 572us/step - accuracy: 0.8695 - loss: 0.3226 - val_accuracy: 0.8588 - val_loss: 0.3637\n",
      "Epoch 14/100\n",
      "\u001b[1m536/536\u001b[0m \u001b[32m━━━━━━━━━━━━━━━━━━━━\u001b[0m\u001b[37m\u001b[0m \u001b[1m0s\u001b[0m 575us/step - accuracy: 0.8673 - loss: 0.3247 - val_accuracy: 0.8535 - val_loss: 0.3659\n",
      "Epoch 15/100\n",
      "\u001b[1m536/536\u001b[0m \u001b[32m━━━━━━━━━━━━━━━━━━━━\u001b[0m\u001b[37m\u001b[0m \u001b[1m0s\u001b[0m 543us/step - accuracy: 0.8651 - loss: 0.3313 - val_accuracy: 0.8573 - val_loss: 0.3657\n",
      "Epoch 16/100\n",
      "\u001b[1m536/536\u001b[0m \u001b[32m━━━━━━━━━━━━━━━━━━━━\u001b[0m\u001b[37m\u001b[0m \u001b[1m0s\u001b[0m 549us/step - accuracy: 0.8602 - loss: 0.3402 - val_accuracy: 0.8599 - val_loss: 0.3670\n",
      "Epoch 17/100\n",
      "\u001b[1m536/536\u001b[0m \u001b[32m━━━━━━━━━━━━━━━━━━━━\u001b[0m\u001b[37m\u001b[0m \u001b[1m0s\u001b[0m 538us/step - accuracy: 0.8689 - loss: 0.3228 - val_accuracy: 0.8550 - val_loss: 0.3701\n",
      "Epoch 18/100\n",
      "\u001b[1m536/536\u001b[0m \u001b[32m━━━━━━━━━━━━━━━━━━━━\u001b[0m\u001b[37m\u001b[0m \u001b[1m0s\u001b[0m 539us/step - accuracy: 0.8703 - loss: 0.3206 - val_accuracy: 0.8550 - val_loss: 0.3674\n",
      "Epoch 19/100\n",
      "\u001b[1m536/536\u001b[0m \u001b[32m━━━━━━━━━━━━━━━━━━━━\u001b[0m\u001b[37m\u001b[0m \u001b[1m0s\u001b[0m 545us/step - accuracy: 0.8589 - loss: 0.3526 - val_accuracy: 0.8561 - val_loss: 0.3803\n",
      "Epoch 20/100\n",
      "\u001b[1m536/536\u001b[0m \u001b[32m━━━━━━━━━━━━━━━━━━━━\u001b[0m\u001b[37m\u001b[0m \u001b[1m0s\u001b[0m 536us/step - accuracy: 0.8627 - loss: 0.3400 - val_accuracy: 0.8561 - val_loss: 0.3630\n",
      "Epoch 21/100\n",
      "\u001b[1m536/536\u001b[0m \u001b[32m━━━━━━━━━━━━━━━━━━━━\u001b[0m\u001b[37m\u001b[0m \u001b[1m0s\u001b[0m 546us/step - accuracy: 0.8738 - loss: 0.3322 - val_accuracy: 0.8595 - val_loss: 0.3590\n",
      "Epoch 22/100\n",
      "\u001b[1m536/536\u001b[0m \u001b[32m━━━━━━━━━━━━━━━━━━━━\u001b[0m\u001b[37m\u001b[0m \u001b[1m0s\u001b[0m 539us/step - accuracy: 0.8649 - loss: 0.3335 - val_accuracy: 0.8501 - val_loss: 0.3861\n",
      "Epoch 23/100\n",
      "\u001b[1m536/536\u001b[0m \u001b[32m━━━━━━━━━━━━━━━━━━━━\u001b[0m\u001b[37m\u001b[0m \u001b[1m0s\u001b[0m 541us/step - accuracy: 0.8582 - loss: 0.3420 - val_accuracy: 0.8542 - val_loss: 0.3782\n",
      "Epoch 24/100\n",
      "\u001b[1m536/536\u001b[0m \u001b[32m━━━━━━━━━━━━━━━━━━━━\u001b[0m\u001b[37m\u001b[0m \u001b[1m0s\u001b[0m 611us/step - accuracy: 0.8565 - loss: 0.3445 - val_accuracy: 0.8599 - val_loss: 0.3655\n",
      "Epoch 25/100\n",
      "\u001b[1m536/536\u001b[0m \u001b[32m━━━━━━━━━━━━━━━━━━━━\u001b[0m\u001b[37m\u001b[0m \u001b[1m0s\u001b[0m 542us/step - accuracy: 0.8688 - loss: 0.3345 - val_accuracy: 0.8591 - val_loss: 0.3630\n",
      "Epoch 26/100\n",
      "\u001b[1m536/536\u001b[0m \u001b[32m━━━━━━━━━━━━━━━━━━━━\u001b[0m\u001b[37m\u001b[0m \u001b[1m0s\u001b[0m 546us/step - accuracy: 0.8736 - loss: 0.3190 - val_accuracy: 0.8588 - val_loss: 0.3620\n",
      "Epoch 27/100\n",
      "\u001b[1m536/536\u001b[0m \u001b[32m━━━━━━━━━━━━━━━━━━━━\u001b[0m\u001b[37m\u001b[0m \u001b[1m0s\u001b[0m 536us/step - accuracy: 0.8707 - loss: 0.3312 - val_accuracy: 0.8576 - val_loss: 0.3691\n",
      "Epoch 28/100\n",
      "\u001b[1m536/536\u001b[0m \u001b[32m━━━━━━━━━━━━━━━━━━━━\u001b[0m\u001b[37m\u001b[0m \u001b[1m0s\u001b[0m 551us/step - accuracy: 0.8742 - loss: 0.3178 - val_accuracy: 0.8595 - val_loss: 0.3656\n",
      "Epoch 29/100\n",
      "\u001b[1m536/536\u001b[0m \u001b[32m━━━━━━━━━━━━━━━━━━━━\u001b[0m\u001b[37m\u001b[0m \u001b[1m0s\u001b[0m 541us/step - accuracy: 0.8670 - loss: 0.3362 - val_accuracy: 0.8531 - val_loss: 0.3877\n",
      "Epoch 30/100\n",
      "\u001b[1m536/536\u001b[0m \u001b[32m━━━━━━━━━━━━━━━━━━━━\u001b[0m\u001b[37m\u001b[0m \u001b[1m0s\u001b[0m 536us/step - accuracy: 0.8723 - loss: 0.3252 - val_accuracy: 0.8546 - val_loss: 0.3881\n",
      "Epoch 31/100\n",
      "\u001b[1m536/536\u001b[0m \u001b[32m━━━━━━━━━━━━━━━━━━━━\u001b[0m\u001b[37m\u001b[0m \u001b[1m0s\u001b[0m 545us/step - accuracy: 0.8641 - loss: 0.3336 - val_accuracy: 0.8569 - val_loss: 0.3649\n",
      "Epoch 32/100\n",
      "\u001b[1m536/536\u001b[0m \u001b[32m━━━━━━━━━━━━━━━━━━━━\u001b[0m\u001b[37m\u001b[0m \u001b[1m0s\u001b[0m 541us/step - accuracy: 0.8701 - loss: 0.3229 - val_accuracy: 0.8516 - val_loss: 0.3709\n",
      "Epoch 33/100\n",
      "\u001b[1m536/536\u001b[0m \u001b[32m━━━━━━━━━━━━━━━━━━━━\u001b[0m\u001b[37m\u001b[0m \u001b[1m0s\u001b[0m 547us/step - accuracy: 0.8724 - loss: 0.3217 - val_accuracy: 0.8546 - val_loss: 0.3708\n",
      "Epoch 34/100\n",
      "\u001b[1m536/536\u001b[0m \u001b[32m━━━━━━━━━━━━━━━━━━━━\u001b[0m\u001b[37m\u001b[0m \u001b[1m0s\u001b[0m 687us/step - accuracy: 0.8638 - loss: 0.3434 - val_accuracy: 0.8580 - val_loss: 0.3600\n",
      "Epoch 35/100\n",
      "\u001b[1m536/536\u001b[0m \u001b[32m━━━━━━━━━━━━━━━━━━━━\u001b[0m\u001b[37m\u001b[0m \u001b[1m0s\u001b[0m 546us/step - accuracy: 0.8647 - loss: 0.3377 - val_accuracy: 0.8576 - val_loss: 0.3818\n",
      "Epoch 36/100\n",
      "\u001b[1m536/536\u001b[0m \u001b[32m━━━━━━━━━━━━━━━━━━━━\u001b[0m\u001b[37m\u001b[0m \u001b[1m0s\u001b[0m 553us/step - accuracy: 0.8659 - loss: 0.3313 - val_accuracy: 0.8557 - val_loss: 0.3734\n",
      "Epoch 37/100\n",
      "\u001b[1m536/536\u001b[0m \u001b[32m━━━━━━━━━━━━━━━━━━━━\u001b[0m\u001b[37m\u001b[0m \u001b[1m0s\u001b[0m 541us/step - accuracy: 0.8708 - loss: 0.3175 - val_accuracy: 0.8478 - val_loss: 0.3908\n",
      "Epoch 38/100\n",
      "\u001b[1m536/536\u001b[0m \u001b[32m━━━━━━━━━━━━━━━━━━━━\u001b[0m\u001b[37m\u001b[0m \u001b[1m0s\u001b[0m 550us/step - accuracy: 0.8597 - loss: 0.3284 - val_accuracy: 0.8576 - val_loss: 0.3650\n",
      "Epoch 39/100\n",
      "\u001b[1m536/536\u001b[0m \u001b[32m━━━━━━━━━━━━━━━━━━━━\u001b[0m\u001b[37m\u001b[0m \u001b[1m0s\u001b[0m 548us/step - accuracy: 0.8632 - loss: 0.3408 - val_accuracy: 0.8580 - val_loss: 0.3673\n",
      "Epoch 40/100\n",
      "\u001b[1m536/536\u001b[0m \u001b[32m━━━━━━━━━━━━━━━━━━━━\u001b[0m\u001b[37m\u001b[0m \u001b[1m0s\u001b[0m 546us/step - accuracy: 0.8663 - loss: 0.3244 - val_accuracy: 0.8573 - val_loss: 0.3715\n",
      "Epoch 41/100\n",
      "\u001b[1m536/536\u001b[0m \u001b[32m━━━━━━━━━━━━━━━━━━━━\u001b[0m\u001b[37m\u001b[0m \u001b[1m0s\u001b[0m 547us/step - accuracy: 0.8725 - loss: 0.3242 - val_accuracy: 0.8542 - val_loss: 0.3752\n",
      "Epoch 42/100\n",
      "\u001b[1m536/536\u001b[0m \u001b[32m━━━━━━━━━━━━━━━━━━━━\u001b[0m\u001b[37m\u001b[0m \u001b[1m0s\u001b[0m 544us/step - accuracy: 0.8702 - loss: 0.3333 - val_accuracy: 0.8610 - val_loss: 0.3641\n",
      "Epoch 43/100\n",
      "\u001b[1m536/536\u001b[0m \u001b[32m━━━━━━━━━━━━━━━━━━━━\u001b[0m\u001b[37m\u001b[0m \u001b[1m0s\u001b[0m 550us/step - accuracy: 0.8750 - loss: 0.3241 - val_accuracy: 0.8584 - val_loss: 0.3619\n",
      "Epoch 44/100\n",
      "\u001b[1m536/536\u001b[0m \u001b[32m━━━━━━━━━━━━━━━━━━━━\u001b[0m\u001b[37m\u001b[0m \u001b[1m0s\u001b[0m 541us/step - accuracy: 0.8779 - loss: 0.3113 - val_accuracy: 0.8501 - val_loss: 0.3778\n",
      "Epoch 45/100\n",
      "\u001b[1m536/536\u001b[0m \u001b[32m━━━━━━━━━━━━━━━━━━━━\u001b[0m\u001b[37m\u001b[0m \u001b[1m0s\u001b[0m 623us/step - accuracy: 0.8725 - loss: 0.3118 - val_accuracy: 0.8610 - val_loss: 0.3708\n",
      "Epoch 46/100\n",
      "\u001b[1m536/536\u001b[0m \u001b[32m━━━━━━━━━━━━━━━━━━━━\u001b[0m\u001b[37m\u001b[0m \u001b[1m0s\u001b[0m 541us/step - accuracy: 0.8630 - loss: 0.3326 - val_accuracy: 0.8542 - val_loss: 0.3767\n",
      "Epoch 47/100\n",
      "\u001b[1m536/536\u001b[0m \u001b[32m━━━━━━━━━━━━━━━━━━━━\u001b[0m\u001b[37m\u001b[0m \u001b[1m0s\u001b[0m 539us/step - accuracy: 0.8790 - loss: 0.3178 - val_accuracy: 0.8588 - val_loss: 0.3766\n",
      "Epoch 48/100\n",
      "\u001b[1m536/536\u001b[0m \u001b[32m━━━━━━━━━━━━━━━━━━━━\u001b[0m\u001b[37m\u001b[0m \u001b[1m0s\u001b[0m 542us/step - accuracy: 0.8692 - loss: 0.3326 - val_accuracy: 0.8584 - val_loss: 0.3670\n",
      "Epoch 49/100\n",
      "\u001b[1m536/536\u001b[0m \u001b[32m━━━━━━━━━━━━━━━━━━━━\u001b[0m\u001b[37m\u001b[0m \u001b[1m0s\u001b[0m 541us/step - accuracy: 0.8609 - loss: 0.3573 - val_accuracy: 0.8516 - val_loss: 0.3989\n",
      "Epoch 50/100\n",
      "\u001b[1m536/536\u001b[0m \u001b[32m━━━━━━━━━━━━━━━━━━━━\u001b[0m\u001b[37m\u001b[0m \u001b[1m0s\u001b[0m 540us/step - accuracy: 0.8653 - loss: 0.3364 - val_accuracy: 0.8595 - val_loss: 0.3625\n",
      "Epoch 51/100\n",
      "\u001b[1m536/536\u001b[0m \u001b[32m━━━━━━━━━━━━━━━━━━━━\u001b[0m\u001b[37m\u001b[0m \u001b[1m0s\u001b[0m 538us/step - accuracy: 0.8732 - loss: 0.3219 - val_accuracy: 0.8554 - val_loss: 0.3717\n",
      "Epoch 52/100\n",
      "\u001b[1m536/536\u001b[0m \u001b[32m━━━━━━━━━━━━━━━━━━━━\u001b[0m\u001b[37m\u001b[0m \u001b[1m0s\u001b[0m 539us/step - accuracy: 0.8688 - loss: 0.3247 - val_accuracy: 0.8614 - val_loss: 0.3720\n",
      "Epoch 53/100\n",
      "\u001b[1m536/536\u001b[0m \u001b[32m━━━━━━━━━━━━━━━━━━━━\u001b[0m\u001b[37m\u001b[0m \u001b[1m0s\u001b[0m 543us/step - accuracy: 0.8660 - loss: 0.3311 - val_accuracy: 0.8607 - val_loss: 0.3723\n",
      "Epoch 54/100\n",
      "\u001b[1m536/536\u001b[0m \u001b[32m━━━━━━━━━━━━━━━━━━━━\u001b[0m\u001b[37m\u001b[0m \u001b[1m0s\u001b[0m 541us/step - accuracy: 0.8698 - loss: 0.3379 - val_accuracy: 0.8576 - val_loss: 0.3662\n",
      "Epoch 55/100\n",
      "\u001b[1m536/536\u001b[0m \u001b[32m━━━━━━━━━━━━━━━━━━━━\u001b[0m\u001b[37m\u001b[0m \u001b[1m0s\u001b[0m 541us/step - accuracy: 0.8634 - loss: 0.3329 - val_accuracy: 0.8538 - val_loss: 0.3667\n",
      "Epoch 56/100\n",
      "\u001b[1m536/536\u001b[0m \u001b[32m━━━━━━━━━━━━━━━━━━━━\u001b[0m\u001b[37m\u001b[0m \u001b[1m0s\u001b[0m 607us/step - accuracy: 0.8620 - loss: 0.3353 - val_accuracy: 0.8595 - val_loss: 0.3737\n",
      "Epoch 57/100\n",
      "\u001b[1m536/536\u001b[0m \u001b[32m━━━━━━━━━━━━━━━━━━━━\u001b[0m\u001b[37m\u001b[0m \u001b[1m0s\u001b[0m 546us/step - accuracy: 0.8617 - loss: 0.3318 - val_accuracy: 0.8485 - val_loss: 0.3853\n",
      "Epoch 58/100\n",
      "\u001b[1m536/536\u001b[0m \u001b[32m━━━━━━━━━━━━━━━━━━━━\u001b[0m\u001b[37m\u001b[0m \u001b[1m0s\u001b[0m 551us/step - accuracy: 0.8731 - loss: 0.3280 - val_accuracy: 0.8607 - val_loss: 0.3651\n",
      "Epoch 59/100\n",
      "\u001b[1m536/536\u001b[0m \u001b[32m━━━━━━━━━━━━━━━━━━━━\u001b[0m\u001b[37m\u001b[0m \u001b[1m0s\u001b[0m 550us/step - accuracy: 0.8718 - loss: 0.3223 - val_accuracy: 0.8580 - val_loss: 0.3610\n",
      "Epoch 60/100\n",
      "\u001b[1m536/536\u001b[0m \u001b[32m━━━━━━━━━━━━━━━━━━━━\u001b[0m\u001b[37m\u001b[0m \u001b[1m0s\u001b[0m 553us/step - accuracy: 0.8652 - loss: 0.3401 - val_accuracy: 0.8501 - val_loss: 0.3745\n",
      "Epoch 61/100\n",
      "\u001b[1m536/536\u001b[0m \u001b[32m━━━━━━━━━━━━━━━━━━━━\u001b[0m\u001b[37m\u001b[0m \u001b[1m0s\u001b[0m 550us/step - accuracy: 0.8605 - loss: 0.3331 - val_accuracy: 0.8580 - val_loss: 0.3644\n",
      "Epoch 62/100\n",
      "\u001b[1m536/536\u001b[0m \u001b[32m━━━━━━━━━━━━━━━━━━━━\u001b[0m\u001b[37m\u001b[0m \u001b[1m0s\u001b[0m 550us/step - accuracy: 0.8592 - loss: 0.3385 - val_accuracy: 0.8633 - val_loss: 0.3574\n",
      "Epoch 63/100\n",
      "\u001b[1m536/536\u001b[0m \u001b[32m━━━━━━━━━━━━━━━━━━━━\u001b[0m\u001b[37m\u001b[0m \u001b[1m0s\u001b[0m 553us/step - accuracy: 0.8726 - loss: 0.3220 - val_accuracy: 0.8516 - val_loss: 0.3771\n",
      "Epoch 64/100\n",
      "\u001b[1m536/536\u001b[0m \u001b[32m━━━━━━━━━━━━━━━━━━━━\u001b[0m\u001b[37m\u001b[0m \u001b[1m0s\u001b[0m 638us/step - accuracy: 0.8638 - loss: 0.3345 - val_accuracy: 0.8569 - val_loss: 0.3670\n",
      "Epoch 65/100\n",
      "\u001b[1m536/536\u001b[0m \u001b[32m━━━━━━━━━━━━━━━━━━━━\u001b[0m\u001b[37m\u001b[0m \u001b[1m0s\u001b[0m 594us/step - accuracy: 0.8667 - loss: 0.3364 - val_accuracy: 0.8618 - val_loss: 0.3681\n",
      "Epoch 66/100\n",
      "\u001b[1m536/536\u001b[0m \u001b[32m━━━━━━━━━━━━━━━━━━━━\u001b[0m\u001b[37m\u001b[0m \u001b[1m0s\u001b[0m 597us/step - accuracy: 0.8697 - loss: 0.3203 - val_accuracy: 0.8580 - val_loss: 0.3701\n",
      "Epoch 67/100\n",
      "\u001b[1m536/536\u001b[0m \u001b[32m━━━━━━━━━━━━━━━━━━━━\u001b[0m\u001b[37m\u001b[0m \u001b[1m0s\u001b[0m 548us/step - accuracy: 0.8699 - loss: 0.3215 - val_accuracy: 0.8535 - val_loss: 0.3912\n",
      "Epoch 68/100\n",
      "\u001b[1m536/536\u001b[0m \u001b[32m━━━━━━━━━━━━━━━━━━━━\u001b[0m\u001b[37m\u001b[0m \u001b[1m0s\u001b[0m 549us/step - accuracy: 0.8636 - loss: 0.3352 - val_accuracy: 0.8554 - val_loss: 0.3760\n",
      "Epoch 69/100\n",
      "\u001b[1m536/536\u001b[0m \u001b[32m━━━━━━━━━━━━━━━━━━━━\u001b[0m\u001b[37m\u001b[0m \u001b[1m0s\u001b[0m 550us/step - accuracy: 0.8745 - loss: 0.3280 - val_accuracy: 0.8599 - val_loss: 0.3692\n",
      "Epoch 70/100\n",
      "\u001b[1m536/536\u001b[0m \u001b[32m━━━━━━━━━━━━━━━━━━━━\u001b[0m\u001b[37m\u001b[0m \u001b[1m0s\u001b[0m 550us/step - accuracy: 0.8715 - loss: 0.3263 - val_accuracy: 0.8595 - val_loss: 0.3694\n",
      "Epoch 71/100\n",
      "\u001b[1m536/536\u001b[0m \u001b[32m━━━━━━━━━━━━━━━━━━━━\u001b[0m\u001b[37m\u001b[0m \u001b[1m0s\u001b[0m 542us/step - accuracy: 0.8769 - loss: 0.3160 - val_accuracy: 0.8656 - val_loss: 0.3655\n",
      "Epoch 72/100\n",
      "\u001b[1m536/536\u001b[0m \u001b[32m━━━━━━━━━━━━━━━━━━━━\u001b[0m\u001b[37m\u001b[0m \u001b[1m0s\u001b[0m 620us/step - accuracy: 0.8713 - loss: 0.3168 - val_accuracy: 0.8550 - val_loss: 0.3710\n",
      "Epoch 73/100\n",
      "\u001b[1m536/536\u001b[0m \u001b[32m━━━━━━━━━━━━━━━━━━━━\u001b[0m\u001b[37m\u001b[0m \u001b[1m0s\u001b[0m 550us/step - accuracy: 0.8648 - loss: 0.3245 - val_accuracy: 0.8569 - val_loss: 0.3736\n",
      "Epoch 74/100\n",
      "\u001b[1m536/536\u001b[0m \u001b[32m━━━━━━━━━━━━━━━━━━━━\u001b[0m\u001b[37m\u001b[0m \u001b[1m0s\u001b[0m 550us/step - accuracy: 0.8737 - loss: 0.3224 - val_accuracy: 0.8565 - val_loss: 0.3761\n",
      "Epoch 75/100\n",
      "\u001b[1m536/536\u001b[0m \u001b[32m━━━━━━━━━━━━━━━━━━━━\u001b[0m\u001b[37m\u001b[0m \u001b[1m0s\u001b[0m 545us/step - accuracy: 0.8656 - loss: 0.3387 - val_accuracy: 0.8580 - val_loss: 0.3700\n",
      "Epoch 76/100\n",
      "\u001b[1m536/536\u001b[0m \u001b[32m━━━━━━━━━━━━━━━━━━━━\u001b[0m\u001b[37m\u001b[0m \u001b[1m0s\u001b[0m 550us/step - accuracy: 0.8702 - loss: 0.3339 - val_accuracy: 0.8588 - val_loss: 0.3688\n",
      "Epoch 77/100\n",
      "\u001b[1m536/536\u001b[0m \u001b[32m━━━━━━━━━━━━━━━━━━━━\u001b[0m\u001b[37m\u001b[0m \u001b[1m0s\u001b[0m 541us/step - accuracy: 0.8705 - loss: 0.3197 - val_accuracy: 0.8569 - val_loss: 0.3703\n",
      "Epoch 78/100\n",
      "\u001b[1m536/536\u001b[0m \u001b[32m━━━━━━━━━━━━━━━━━━━━\u001b[0m\u001b[37m\u001b[0m \u001b[1m0s\u001b[0m 553us/step - accuracy: 0.8655 - loss: 0.3326 - val_accuracy: 0.8603 - val_loss: 0.3683\n",
      "Epoch 79/100\n",
      "\u001b[1m536/536\u001b[0m \u001b[32m━━━━━━━━━━━━━━━━━━━━\u001b[0m\u001b[37m\u001b[0m \u001b[1m0s\u001b[0m 619us/step - accuracy: 0.8648 - loss: 0.3372 - val_accuracy: 0.8584 - val_loss: 0.3866\n",
      "Epoch 80/100\n",
      "\u001b[1m536/536\u001b[0m \u001b[32m━━━━━━━━━━━━━━━━━━━━\u001b[0m\u001b[37m\u001b[0m \u001b[1m0s\u001b[0m 549us/step - accuracy: 0.8727 - loss: 0.3162 - val_accuracy: 0.8538 - val_loss: 0.3718\n",
      "Epoch 81/100\n",
      "\u001b[1m536/536\u001b[0m \u001b[32m━━━━━━━━━━━━━━━━━━━━\u001b[0m\u001b[37m\u001b[0m \u001b[1m0s\u001b[0m 542us/step - accuracy: 0.8698 - loss: 0.3336 - val_accuracy: 0.8599 - val_loss: 0.3683\n",
      "Epoch 82/100\n",
      "\u001b[1m536/536\u001b[0m \u001b[32m━━━━━━━━━━━━━━━━━━━━\u001b[0m\u001b[37m\u001b[0m \u001b[1m0s\u001b[0m 624us/step - accuracy: 0.8590 - loss: 0.3381 - val_accuracy: 0.8550 - val_loss: 0.3811\n",
      "Epoch 83/100\n",
      "\u001b[1m536/536\u001b[0m \u001b[32m━━━━━━━━━━━━━━━━━━━━\u001b[0m\u001b[37m\u001b[0m \u001b[1m0s\u001b[0m 552us/step - accuracy: 0.8714 - loss: 0.3312 - val_accuracy: 0.8565 - val_loss: 0.3842\n",
      "Epoch 84/100\n",
      "\u001b[1m536/536\u001b[0m \u001b[32m━━━━━━━━━━━━━━━━━━━━\u001b[0m\u001b[37m\u001b[0m \u001b[1m0s\u001b[0m 560us/step - accuracy: 0.8672 - loss: 0.3388 - val_accuracy: 0.8607 - val_loss: 0.3819\n",
      "Epoch 85/100\n",
      "\u001b[1m536/536\u001b[0m \u001b[32m━━━━━━━━━━━━━━━━━━━━\u001b[0m\u001b[37m\u001b[0m \u001b[1m0s\u001b[0m 610us/step - accuracy: 0.8695 - loss: 0.3190 - val_accuracy: 0.8410 - val_loss: 0.3817\n",
      "Epoch 86/100\n",
      "\u001b[1m536/536\u001b[0m \u001b[32m━━━━━━━━━━━━━━━━━━━━\u001b[0m\u001b[37m\u001b[0m \u001b[1m0s\u001b[0m 553us/step - accuracy: 0.8702 - loss: 0.3274 - val_accuracy: 0.8557 - val_loss: 0.3864\n",
      "Epoch 87/100\n",
      "\u001b[1m536/536\u001b[0m \u001b[32m━━━━━━━━━━━━━━━━━━━━\u001b[0m\u001b[37m\u001b[0m \u001b[1m0s\u001b[0m 558us/step - accuracy: 0.8675 - loss: 0.3371 - val_accuracy: 0.8584 - val_loss: 0.3716\n",
      "Epoch 88/100\n",
      "\u001b[1m536/536\u001b[0m \u001b[32m━━━━━━━━━━━━━━━━━━━━\u001b[0m\u001b[37m\u001b[0m \u001b[1m0s\u001b[0m 547us/step - accuracy: 0.8702 - loss: 0.3240 - val_accuracy: 0.8569 - val_loss: 0.3756\n",
      "Epoch 89/100\n",
      "\u001b[1m536/536\u001b[0m \u001b[32m━━━━━━━━━━━━━━━━━━━━\u001b[0m\u001b[37m\u001b[0m \u001b[1m0s\u001b[0m 558us/step - accuracy: 0.8770 - loss: 0.3093 - val_accuracy: 0.8644 - val_loss: 0.3633\n",
      "Epoch 90/100\n",
      "\u001b[1m536/536\u001b[0m \u001b[32m━━━━━━━━━━━━━━━━━━━━\u001b[0m\u001b[37m\u001b[0m \u001b[1m0s\u001b[0m 544us/step - accuracy: 0.8647 - loss: 0.3340 - val_accuracy: 0.8637 - val_loss: 0.3621\n",
      "Epoch 91/100\n",
      "\u001b[1m536/536\u001b[0m \u001b[32m━━━━━━━━━━━━━━━━━━━━\u001b[0m\u001b[37m\u001b[0m \u001b[1m0s\u001b[0m 607us/step - accuracy: 0.8782 - loss: 0.3057 - val_accuracy: 0.8614 - val_loss: 0.3726\n",
      "Epoch 92/100\n",
      "\u001b[1m536/536\u001b[0m \u001b[32m━━━━━━━━━━━━━━━━━━━━\u001b[0m\u001b[37m\u001b[0m \u001b[1m0s\u001b[0m 553us/step - accuracy: 0.8621 - loss: 0.3347 - val_accuracy: 0.8607 - val_loss: 0.3747\n",
      "Epoch 93/100\n",
      "\u001b[1m536/536\u001b[0m \u001b[32m━━━━━━━━━━━━━━━━━━━━\u001b[0m\u001b[37m\u001b[0m \u001b[1m0s\u001b[0m 538us/step - accuracy: 0.8679 - loss: 0.3308 - val_accuracy: 0.8591 - val_loss: 0.3649\n",
      "Epoch 94/100\n",
      "\u001b[1m536/536\u001b[0m \u001b[32m━━━━━━━━━━━━━━━━━━━━\u001b[0m\u001b[37m\u001b[0m \u001b[1m0s\u001b[0m 551us/step - accuracy: 0.8654 - loss: 0.3308 - val_accuracy: 0.8603 - val_loss: 0.3623\n",
      "Epoch 95/100\n",
      "\u001b[1m536/536\u001b[0m \u001b[32m━━━━━━━━━━━━━━━━━━━━\u001b[0m\u001b[37m\u001b[0m \u001b[1m0s\u001b[0m 542us/step - accuracy: 0.8706 - loss: 0.3283 - val_accuracy: 0.8663 - val_loss: 0.3573\n",
      "Epoch 96/100\n",
      "\u001b[1m536/536\u001b[0m \u001b[32m━━━━━━━━━━━━━━━━━━━━\u001b[0m\u001b[37m\u001b[0m \u001b[1m0s\u001b[0m 550us/step - accuracy: 0.8698 - loss: 0.3314 - val_accuracy: 0.8527 - val_loss: 0.3854\n",
      "Epoch 97/100\n",
      "\u001b[1m536/536\u001b[0m \u001b[32m━━━━━━━━━━━━━━━━━━━━\u001b[0m\u001b[37m\u001b[0m \u001b[1m0s\u001b[0m 618us/step - accuracy: 0.8732 - loss: 0.3221 - val_accuracy: 0.8637 - val_loss: 0.3716\n",
      "Epoch 98/100\n",
      "\u001b[1m536/536\u001b[0m \u001b[32m━━━━━━━━━━━━━━━━━━━━\u001b[0m\u001b[37m\u001b[0m \u001b[1m0s\u001b[0m 556us/step - accuracy: 0.8670 - loss: 0.3452 - val_accuracy: 0.8595 - val_loss: 0.3926\n",
      "Epoch 99/100\n",
      "\u001b[1m536/536\u001b[0m \u001b[32m━━━━━━━━━━━━━━━━━━━━\u001b[0m\u001b[37m\u001b[0m \u001b[1m0s\u001b[0m 552us/step - accuracy: 0.8674 - loss: 0.3409 - val_accuracy: 0.8614 - val_loss: 0.3855\n",
      "Epoch 100/100\n",
      "\u001b[1m536/536\u001b[0m \u001b[32m━━━━━━━━━━━━━━━━━━━━\u001b[0m\u001b[37m\u001b[0m \u001b[1m0s\u001b[0m 547us/step - accuracy: 0.8777 - loss: 0.3215 - val_accuracy: 0.8595 - val_loss: 0.3683\n",
      "CPU times: user 37.6 s, sys: 3.59 s, total: 41.2 s\n",
      "Wall time: 31.7 s\n"
     ]
    }
   ],
   "source": [
    "%%time \n",
    "model_history = classifier.fit(X_train, y_train, validation_split=0.33, batch_size=10, epochs=100)"
   ]
  },
  {
   "cell_type": "code",
   "execution_count": 51,
   "id": "90651048-8697-4a91-81d5-a2bdd72d3184",
   "metadata": {},
   "outputs": [],
   "source": [
    "### Early stopping\n",
    "import tensorflow as tf"
   ]
  },
  {
   "cell_type": "code",
   "execution_count": 52,
   "id": "466faa31-acce-46a5-ac9c-be6367573b1b",
   "metadata": {},
   "outputs": [],
   "source": [
    "early_stopping = tf.keras.callbacks.EarlyStopping(\n",
    "    monitor=\"val_loss\",\n",
    "    min_delta=0.0001,\n",
    "    patience=20,\n",
    "    verbose=5,\n",
    "    mode=\"auto\",\n",
    "    baseline=None,\n",
    "    restore_best_weights=False,\n",
    "    start_from_epoch=0,\n",
    ")"
   ]
  },
  {
   "cell_type": "code",
   "execution_count": 53,
   "id": "b5d103fa-d66c-4e04-8f9a-78a716e9ffee",
   "metadata": {},
   "outputs": [
    {
     "name": "stdout",
     "output_type": "stream",
     "text": [
      "Epoch 1/1000\n",
      "\u001b[1m536/536\u001b[0m \u001b[32m━━━━━━━━━━━━━━━━━━━━\u001b[0m\u001b[37m\u001b[0m \u001b[1m0s\u001b[0m 564us/step - accuracy: 0.8754 - loss: 0.3228 - val_accuracy: 0.8538 - val_loss: 0.3755\n",
      "Epoch 2/1000\n",
      "\u001b[1m536/536\u001b[0m \u001b[32m━━━━━━━━━━━━━━━━━━━━\u001b[0m\u001b[37m\u001b[0m \u001b[1m0s\u001b[0m 535us/step - accuracy: 0.8679 - loss: 0.3362 - val_accuracy: 0.8595 - val_loss: 0.3713\n",
      "Epoch 3/1000\n",
      "\u001b[1m536/536\u001b[0m \u001b[32m━━━━━━━━━━━━━━━━━━━━\u001b[0m\u001b[37m\u001b[0m \u001b[1m0s\u001b[0m 540us/step - accuracy: 0.8761 - loss: 0.3094 - val_accuracy: 0.8580 - val_loss: 0.3662\n",
      "Epoch 4/1000\n",
      "\u001b[1m536/536\u001b[0m \u001b[32m━━━━━━━━━━━━━━━━━━━━\u001b[0m\u001b[37m\u001b[0m \u001b[1m0s\u001b[0m 534us/step - accuracy: 0.8625 - loss: 0.3393 - val_accuracy: 0.8603 - val_loss: 0.3660\n",
      "Epoch 5/1000\n",
      "\u001b[1m536/536\u001b[0m \u001b[32m━━━━━━━━━━━━━━━━━━━━\u001b[0m\u001b[37m\u001b[0m \u001b[1m0s\u001b[0m 533us/step - accuracy: 0.8684 - loss: 0.3208 - val_accuracy: 0.8629 - val_loss: 0.3599\n",
      "Epoch 6/1000\n",
      "\u001b[1m536/536\u001b[0m \u001b[32m━━━━━━━━━━━━━━━━━━━━\u001b[0m\u001b[37m\u001b[0m \u001b[1m0s\u001b[0m 539us/step - accuracy: 0.8726 - loss: 0.3247 - val_accuracy: 0.8633 - val_loss: 0.3663\n",
      "Epoch 7/1000\n",
      "\u001b[1m536/536\u001b[0m \u001b[32m━━━━━━━━━━━━━━━━━━━━\u001b[0m\u001b[37m\u001b[0m \u001b[1m0s\u001b[0m 525us/step - accuracy: 0.8711 - loss: 0.3255 - val_accuracy: 0.8591 - val_loss: 0.3734\n",
      "Epoch 8/1000\n",
      "\u001b[1m536/536\u001b[0m \u001b[32m━━━━━━━━━━━━━━━━━━━━\u001b[0m\u001b[37m\u001b[0m \u001b[1m0s\u001b[0m 526us/step - accuracy: 0.8757 - loss: 0.3184 - val_accuracy: 0.8626 - val_loss: 0.3579\n",
      "Epoch 9/1000\n",
      "\u001b[1m536/536\u001b[0m \u001b[32m━━━━━━━━━━━━━━━━━━━━\u001b[0m\u001b[37m\u001b[0m \u001b[1m0s\u001b[0m 544us/step - accuracy: 0.8703 - loss: 0.3283 - val_accuracy: 0.8633 - val_loss: 0.3692\n",
      "Epoch 10/1000\n",
      "\u001b[1m536/536\u001b[0m \u001b[32m━━━━━━━━━━━━━━━━━━━━\u001b[0m\u001b[37m\u001b[0m \u001b[1m0s\u001b[0m 535us/step - accuracy: 0.8722 - loss: 0.3254 - val_accuracy: 0.8633 - val_loss: 0.3657\n",
      "Epoch 11/1000\n",
      "\u001b[1m536/536\u001b[0m \u001b[32m━━━━━━━━━━━━━━━━━━━━\u001b[0m\u001b[37m\u001b[0m \u001b[1m0s\u001b[0m 538us/step - accuracy: 0.8664 - loss: 0.3353 - val_accuracy: 0.8372 - val_loss: 0.4004\n",
      "Epoch 12/1000\n",
      "\u001b[1m536/536\u001b[0m \u001b[32m━━━━━━━━━━━━━━━━━━━━\u001b[0m\u001b[37m\u001b[0m \u001b[1m0s\u001b[0m 593us/step - accuracy: 0.8701 - loss: 0.3298 - val_accuracy: 0.8470 - val_loss: 0.3782\n",
      "Epoch 13/1000\n",
      "\u001b[1m536/536\u001b[0m \u001b[32m━━━━━━━━━━━━━━━━━━━━\u001b[0m\u001b[37m\u001b[0m \u001b[1m0s\u001b[0m 548us/step - accuracy: 0.8655 - loss: 0.3309 - val_accuracy: 0.8633 - val_loss: 0.3605\n",
      "Epoch 14/1000\n",
      "\u001b[1m536/536\u001b[0m \u001b[32m━━━━━━━━━━━━━━━━━━━━\u001b[0m\u001b[37m\u001b[0m \u001b[1m0s\u001b[0m 544us/step - accuracy: 0.8704 - loss: 0.3298 - val_accuracy: 0.8482 - val_loss: 0.3997\n",
      "Epoch 15/1000\n",
      "\u001b[1m536/536\u001b[0m \u001b[32m━━━━━━━━━━━━━━━━━━━━\u001b[0m\u001b[37m\u001b[0m \u001b[1m0s\u001b[0m 535us/step - accuracy: 0.8713 - loss: 0.3296 - val_accuracy: 0.8607 - val_loss: 0.3826\n",
      "Epoch 16/1000\n",
      "\u001b[1m536/536\u001b[0m \u001b[32m━━━━━━━━━━━━━━━━━━━━\u001b[0m\u001b[37m\u001b[0m \u001b[1m0s\u001b[0m 562us/step - accuracy: 0.8789 - loss: 0.3112 - val_accuracy: 0.8622 - val_loss: 0.3709\n",
      "Epoch 17/1000\n",
      "\u001b[1m536/536\u001b[0m \u001b[32m━━━━━━━━━━━━━━━━━━━━\u001b[0m\u001b[37m\u001b[0m \u001b[1m0s\u001b[0m 591us/step - accuracy: 0.8717 - loss: 0.3250 - val_accuracy: 0.8538 - val_loss: 0.3785\n",
      "Epoch 18/1000\n",
      "\u001b[1m536/536\u001b[0m \u001b[32m━━━━━━━━━━━━━━━━━━━━\u001b[0m\u001b[37m\u001b[0m \u001b[1m0s\u001b[0m 559us/step - accuracy: 0.8713 - loss: 0.3314 - val_accuracy: 0.8573 - val_loss: 0.3627\n",
      "Epoch 19/1000\n",
      "\u001b[1m536/536\u001b[0m \u001b[32m━━━━━━━━━━━━━━━━━━━━\u001b[0m\u001b[37m\u001b[0m \u001b[1m0s\u001b[0m 550us/step - accuracy: 0.8734 - loss: 0.3203 - val_accuracy: 0.8622 - val_loss: 0.3582\n",
      "Epoch 20/1000\n",
      "\u001b[1m536/536\u001b[0m \u001b[32m━━━━━━━━━━━━━━━━━━━━\u001b[0m\u001b[37m\u001b[0m \u001b[1m0s\u001b[0m 534us/step - accuracy: 0.8690 - loss: 0.3326 - val_accuracy: 0.8648 - val_loss: 0.3607\n",
      "Epoch 21/1000\n",
      "\u001b[1m536/536\u001b[0m \u001b[32m━━━━━━━━━━━━━━━━━━━━\u001b[0m\u001b[37m\u001b[0m \u001b[1m0s\u001b[0m 540us/step - accuracy: 0.8685 - loss: 0.3355 - val_accuracy: 0.8561 - val_loss: 0.3776\n",
      "Epoch 22/1000\n",
      "\u001b[1m536/536\u001b[0m \u001b[32m━━━━━━━━━━━━━━━━━━━━\u001b[0m\u001b[37m\u001b[0m \u001b[1m0s\u001b[0m 540us/step - accuracy: 0.8705 - loss: 0.3187 - val_accuracy: 0.8629 - val_loss: 0.3647\n",
      "Epoch 23/1000\n",
      "\u001b[1m536/536\u001b[0m \u001b[32m━━━━━━━━━━━━━━━━━━━━\u001b[0m\u001b[37m\u001b[0m \u001b[1m0s\u001b[0m 546us/step - accuracy: 0.8727 - loss: 0.3264 - val_accuracy: 0.8591 - val_loss: 0.3679\n",
      "Epoch 24/1000\n",
      "\u001b[1m536/536\u001b[0m \u001b[32m━━━━━━━━━━━━━━━━━━━━\u001b[0m\u001b[37m\u001b[0m \u001b[1m0s\u001b[0m 539us/step - accuracy: 0.8627 - loss: 0.3429 - val_accuracy: 0.8629 - val_loss: 0.3650\n",
      "Epoch 25/1000\n",
      "\u001b[1m536/536\u001b[0m \u001b[32m━━━━━━━━━━━━━━━━━━━━\u001b[0m\u001b[37m\u001b[0m \u001b[1m0s\u001b[0m 541us/step - accuracy: 0.8758 - loss: 0.3102 - val_accuracy: 0.8436 - val_loss: 0.3842\n",
      "Epoch 26/1000\n",
      "\u001b[1m536/536\u001b[0m \u001b[32m━━━━━━━━━━━━━━━━━━━━\u001b[0m\u001b[37m\u001b[0m \u001b[1m0s\u001b[0m 551us/step - accuracy: 0.8691 - loss: 0.3237 - val_accuracy: 0.8603 - val_loss: 0.3730\n",
      "Epoch 27/1000\n",
      "\u001b[1m536/536\u001b[0m \u001b[32m━━━━━━━━━━━━━━━━━━━━\u001b[0m\u001b[37m\u001b[0m \u001b[1m0s\u001b[0m 541us/step - accuracy: 0.8698 - loss: 0.3220 - val_accuracy: 0.8599 - val_loss: 0.3686\n",
      "Epoch 28/1000\n",
      "\u001b[1m536/536\u001b[0m \u001b[32m━━━━━━━━━━━━━━━━━━━━\u001b[0m\u001b[37m\u001b[0m \u001b[1m0s\u001b[0m 533us/step - accuracy: 0.8851 - loss: 0.2971 - val_accuracy: 0.8573 - val_loss: 0.3714\n",
      "Epoch 28: early stopping\n",
      "CPU times: user 10.2 s, sys: 943 ms, total: 11.1 s\n",
      "Wall time: 8.44 s\n"
     ]
    }
   ],
   "source": [
    "%%time \n",
    "model_history = classifier.fit(\n",
    "    X_train, y_train, \n",
    "    validation_split=0.33,\n",
    "    batch_size=10,\n",
    "    epochs=1000,\n",
    "    callbacks=early_stopping)"
   ]
  },
  {
   "cell_type": "code",
   "execution_count": 54,
   "id": "098ae886-eda9-477e-b078-5717aa933b17",
   "metadata": {},
   "outputs": [
    {
     "data": {
      "text/plain": [
       "dict_keys(['accuracy', 'loss', 'val_accuracy', 'val_loss'])"
      ]
     },
     "execution_count": 54,
     "metadata": {},
     "output_type": "execute_result"
    }
   ],
   "source": [
    "model_history.history.keys()"
   ]
  },
  {
   "cell_type": "code",
   "execution_count": 55,
   "id": "d0353118-b707-4998-bed0-b44cc7cedb13",
   "metadata": {},
   "outputs": [
    {
     "data": {
      "image/png": "[encoded data removed]",
      "text/plain": [
       "<Figure size 640x480 with 1 Axes>"
      ]
     },
     "metadata": {},
     "output_type": "display_data"
    }
   ],
   "source": [
    "# summarize history for accuracy\n",
    "\n",
    "plt.plot(model_history.history['accuracy'])\n",
    "plt.plot(model_history.history['val_accuracy'])\n",
    "plt.title('model accuracy')\n",
    "plt.ylabel('accuracy')\n",
    "plt.xlabel('epoch')\n",
    "plt.legend(['train', 'test'], loc='upper left')\n",
    "plt.show()"
   ]
  },
  {
   "cell_type": "code",
   "execution_count": 56,
   "id": "6d89dc75-f80c-4787-9761-56136a8f397e",
   "metadata": {},
   "outputs": [
    {
     "data": {
      "image/png": "[encoded data removed]",
      "text/plain": [
       "<Figure size 640x480 with 1 Axes>"
      ]
     },
     "metadata": {},
     "output_type": "display_data"
    }
   ],
   "source": [
    "# summarize history for loss\n",
    "\n",
    "plt.plot(model_history.history['loss'])\n",
    "plt.plot(model_history.history['val_loss'])\n",
    "plt.title('model loss')\n",
    "plt.ylabel('loss')\n",
    "plt.xlabel('epoch')\n",
    "plt.legend(['train', 'test'], loc='upper left')\n",
    "plt.show()"
   ]
  },
  {
   "cell_type": "code",
   "execution_count": 57,
   "id": "47e21d65-6935-45a9-9098-234f532c94c5",
   "metadata": {},
   "outputs": [
    {
     "name": "stdout",
     "output_type": "stream",
     "text": [
      "\u001b[1m63/63\u001b[0m \u001b[32m━━━━━━━━━━━━━━━━━━━━\u001b[0m\u001b[37m\u001b[0m \u001b[1m0s\u001b[0m 622us/step\n"
     ]
    }
   ],
   "source": [
    "# Part 3 - Making the predictions and evaluating the model\n",
    "\n",
    "# Predicting the Test set results\n",
    "y_pred = classifier.predict(X_test)\n",
    "y_pred = (y_pred > 0.5)"
   ]
  },
  {
   "cell_type": "code",
   "execution_count": 61,
   "id": "5dc7e726-ee91-454b-a101-10811b3bcfe0",
   "metadata": {},
   "outputs": [
    {
     "data": {
      "text/plain": [
       "array([[1550,   45],\n",
       "       [ 253,  152]])"
      ]
     },
     "execution_count": 61,
     "metadata": {},
     "output_type": "execute_result"
    }
   ],
   "source": [
    "# Making the Confusion Matrix\n",
    "from sklearn.metrics import confusion_matrix, accuracy_score\n",
    "cm = confusion_matrix(y_test, y_pred)\n",
    "cm"
   ]
  },
  {
   "cell_type": "code",
   "execution_count": 59,
   "id": "60f5630c-99f5-43b0-9889-b98251892d53",
   "metadata": {},
   "outputs": [
    {
     "data": {
      "text/plain": [
       "0.851"
      ]
     },
     "execution_count": 59,
     "metadata": {},
     "output_type": "execute_result"
    }
   ],
   "source": [
    "score = accuracy_score(y_test, y_pred)\n",
    "score"
   ]
  },
  {
   "cell_type": "code",
   "execution_count": 60,
   "id": "491ae75a-e712-48c6-908a-c0651134a445",
   "metadata": {},
   "outputs": [
    {
     "data": {
      "text/plain": [
       "[array([[ 1.0661874e+00, -4.5794629e-02,  4.0016217e+00, -6.0871089e-01,\n",
       "          5.5483395e-01,  4.9159269e+00, -7.6931911e-03,  4.5252720e-01,\n",
       "         -2.1787913e+00, -6.2949020e-01, -1.0335919e+00],\n",
       "        [-5.8408899e+00,  1.5619912e+00, -2.3722119e+00, -1.4215029e+00,\n",
       "         -1.0153710e+00, -3.4193964e+00,  4.1805239e+00, -3.7038732e-02,\n",
       "         -4.1938891e+00,  9.4209681e+00,  3.8405091e-01],\n",
       "        [-2.4064898e+00,  3.6565473e+00, -3.2696979e+00, -3.3154599e-02,\n",
       "          1.1635524e+00, -1.5070099e+00,  7.1017273e-02,  1.4188786e-01,\n",
       "          2.4784009e+00, -1.6546183e+00, -5.3837216e-01],\n",
       "        [-4.9294567e+00, -2.0586808e+00,  8.7627137e-01, -7.9825020e+00,\n",
       "         -1.2604706e+00, -1.6575502e+00, -2.4042890e+00, -7.1496167e+00,\n",
       "         -1.7476313e+00,  1.0019550e+00,  2.3011992e+00],\n",
       "        [ 3.5008693e+00, -3.4439943e+00,  3.5969081e+00,  1.9595034e-01,\n",
       "          7.5189772e+00,  2.3089569e+00,  4.8130998e-01, -5.7356501e+00,\n",
       "         -9.0600234e-01, -1.8513294e+00,  5.2091632e+00],\n",
       "        [ 2.0869462e+00,  6.5865237e-01,  4.7144437e-01,  1.2340184e+00,\n",
       "         -7.5447363e-01, -8.0969238e-01,  3.0958125e-01, -9.5244193e-01,\n",
       "         -1.3901219e+00,  8.1626225e-01, -4.8847058e-01],\n",
       "        [ 1.3106480e+00,  2.0422730e+00, -2.4525921e-01,  5.0753874e-01,\n",
       "          2.1154176e-01,  1.3071439e+00,  7.3777761e+00, -4.6059042e-01,\n",
       "          3.0548699e+00, -1.5246488e+00, -6.5901417e-01],\n",
       "        [-8.0993462e-01, -2.1872001e+00, -3.7711602e-01,  2.9558843e-01,\n",
       "          5.1800158e-02,  2.4517114e+00, -7.9761636e-01, -7.8973079e-01,\n",
       "         -1.7997106e+00, -7.8595122e-03,  7.8651124e-01],\n",
       "        [ 7.7831805e-01, -1.1830769e+00, -1.3173556e+00, -2.6149604e-01,\n",
       "         -4.9127537e-01,  1.5586525e+00,  1.3272043e+00,  1.0639631e-01,\n",
       "          2.8530374e+00,  2.9119396e-01, -8.5806566e-01],\n",
       "        [-6.0779638e+00,  1.4156612e+00,  4.0881233e+00,  5.5853715e+00,\n",
       "         -1.4065547e-01,  3.5963230e+00,  8.8191491e-01,  5.6519518e+00,\n",
       "         -5.2555233e-01, -1.5923564e+00, -6.1639771e-02],\n",
       "        [-1.5882314e+00, -2.8648732e+00,  1.3603600e+00, -1.9144022e+00,\n",
       "         -1.4246156e+00,  4.0749526e+00,  1.0439786e+00,  1.1660106e+00,\n",
       "          6.5832302e-02, -1.6637719e+00,  1.7176344e+00]], dtype=float32),\n",
       " array([ 0.66035897, -9.385547  , -7.523411  , -6.609288  , -8.425647  ,\n",
       "        -4.331151  , -6.935252  , -3.9362133 ,  0.17989497, -3.3406453 ,\n",
       "        -9.9812975 ], dtype=float32),\n",
       " array([[  1.776598  ,  -0.24719654,   1.8814908 ,  -1.7541827 ,\n",
       "          -2.7280605 ,   2.1847188 ,  -2.1144316 ],\n",
       "        [  1.4965098 ,  -3.718943  ,   2.6355188 ,  -4.489178  ,\n",
       "           2.2707214 ,  -8.35638   ,  -1.9912256 ],\n",
       "        [-13.404945  ,  -0.51165026,   1.0449799 ,  -0.14394717,\n",
       "           3.163027  ,  -1.8175052 ,  -4.6029396 ],\n",
       "        [ -2.4276705 ,   3.453113  ,   2.0333383 ,  -4.2433996 ,\n",
       "           1.329707  ,  -1.1693028 ,  -5.99116   ],\n",
       "        [ -0.12330722,  -2.3512847 ,  -4.14442   ,   5.4157057 ,\n",
       "          -5.6125145 ,  -1.8985518 ,   7.426842  ],\n",
       "        [  0.7998503 ,   2.2177935 ,  -5.6790247 ,   0.50705963,\n",
       "           0.6504964 ,  -0.1230116 ,   1.8126948 ],\n",
       "        [  2.3911142 ,  -0.82702845,  -0.76327264,   2.051193  ,\n",
       "          -1.8181628 ,  -0.38120925,  -9.052995  ],\n",
       "        [ -2.9774568 ,   0.9106445 ,   2.254029  , -12.686001  ,\n",
       "          -4.9561467 , -13.41519   ,   1.4885123 ],\n",
       "        [ -0.07052378,   1.0914721 ,   0.36454684,  -7.5947676 ,\n",
       "           1.3013095 ,  -0.01679044,  -1.2202023 ],\n",
       "        [  0.17528881,  -5.956755  ,  -0.22384593,  -5.370385  ,\n",
       "          -6.677621  ,  -0.20547634,   1.2055185 ],\n",
       "        [ -2.6843266 ,  -7.9479094 ,  -0.5168003 ,  -0.02019388,\n",
       "           1.3407781 ,  -8.7341385 ,   1.9325689 ]], dtype=float32),\n",
       " array([ 0.4504461 ,  1.6926373 , -7.0803347 ,  0.40352252, -1.2160119 ,\n",
       "         4.2620273 , -8.743164  ], dtype=float32),\n",
       " array([[-0.50423867, -0.36105907,  0.50339687,  0.212702  , -0.5442672 ,\n",
       "         -0.30076045],\n",
       "        [-0.87249786, -0.82492304,  0.7922419 ,  0.82483673, -1.0745268 ,\n",
       "         -0.6503695 ],\n",
       "        [-0.22432224, -0.7911794 ,  0.36975798, -2.736545  , -0.8907091 ,\n",
       "         -0.5024602 ],\n",
       "        [-0.18805891, -0.31067795, -0.7720505 , -2.6449013 , -0.05530317,\n",
       "         -0.10104131],\n",
       "        [-0.3250833 , -0.10997107,  1.4771197 ,  2.821214  , -0.05349078,\n",
       "         -0.21990548],\n",
       "        [-0.36028606, -0.54917645,  1.5344336 ,  0.6618462 , -0.18725379,\n",
       "         -0.62750435],\n",
       "        [-0.41457447, -0.19873412, -1.2613486 , -3.4110389 , -0.48982593,\n",
       "         -0.2570006 ]], dtype=float32),\n",
       " array([-0.38992015, -0.8598355 ,  5.5360284 ,  3.7582116 , -0.3260888 ,\n",
       "        -0.9201448 ], dtype=float32),\n",
       " array([[-6.7573214e-01,  3.8769567e-01, -1.7930833e-01, -2.0921069e-01,\n",
       "         -2.0184733e-01, -8.5505381e-02,  1.3797589e-01, -5.1962954e-01,\n",
       "         -4.3139279e-01,  1.9232172e-01],\n",
       "        [-2.5117868e-01, -1.4928868e-01, -3.1394017e-01, -1.5373187e-01,\n",
       "         -3.6592710e-01,  4.9412927e-01,  4.2989992e-02,  1.4157869e-01,\n",
       "          4.2200199e-01,  2.7661198e-01],\n",
       "        [-5.5374610e-01, -2.8971636e-03, -1.8477480e-01,  7.5177144e-04,\n",
       "         -2.9280475e-01, -2.8074655e-01,  4.0251622e-01, -1.4174676e-02,\n",
       "         -1.2562232e-01, -4.6766359e-01],\n",
       "        [-2.8169161e-01, -2.0277628e-01, -8.8529503e-03, -6.8695730e-01,\n",
       "         -2.5360090e-01, -3.0667770e-01,  3.9174905e-01,  4.6883305e-03,\n",
       "          4.5663164e-06, -8.4819272e-02],\n",
       "        [ 5.1357165e-02, -1.0295038e-01, -5.0538003e-01,  1.8561150e-01,\n",
       "         -1.0196053e-02, -8.4234513e-03,  5.9002418e-02, -8.4709436e-02,\n",
       "          2.2237740e-01, -2.6147145e-01],\n",
       "        [-6.1782080e-01,  6.8709081e-01,  3.6190987e-02, -5.2025425e-01,\n",
       "         -2.8179488e-01,  2.8437468e-01, -8.0346364e-01,  4.5278364e-01,\n",
       "          3.9721102e-01,  2.8294581e-01]], dtype=float32),\n",
       " array([-0.6300306 , -0.07651645, -0.7865386 , -0.27941874, -0.48303002,\n",
       "        -0.7225049 , -0.00176774, -0.04711641, -0.7175847 , -0.6492798 ],\n",
       "       dtype=float32),\n",
       " array([[-0.30379418],\n",
       "        [ 0.1097134 ],\n",
       "        [ 0.09500022],\n",
       "        [ 0.03223031],\n",
       "        [ 0.28216553],\n",
       "        [-0.00146951],\n",
       "        [-0.33199885],\n",
       "        [ 0.0816991 ],\n",
       "        [ 0.38662648],\n",
       "        [ 0.18522152]], dtype=float32),\n",
       " array([0.67528045], dtype=float32),\n",
       " array([[-0.6674143 ,  6.1203294 ,  0.14896674, -0.14615196,  5.738477  ,\n",
       "          5.581185  ]], dtype=float32),\n",
       " array([ 0.        , -0.06833307, -0.21019435,  0.        ,  0.08988011,\n",
       "        -0.07629693], dtype=float32),\n",
       " array([[-6.4226270e-02,  8.1214488e-02,  3.7062782e-01, -2.8757709e-01,\n",
       "         -4.6386042e-01,  4.8509008e-01, -2.8504837e-01,  3.3900726e-01,\n",
       "         -1.2659159e-01,  1.6740251e-01],\n",
       "        [-6.4401114e-01, -1.5271672e+00, -9.4121826e-01, -6.7625368e-01,\n",
       "         -5.3743582e+00, -2.4589381e-01, -1.6218842e+00,  1.6212606e+00,\n",
       "         -3.8704767e+00, -7.2896519e+00],\n",
       "        [-6.1199504e-01, -1.2262564e-01, -2.3679732e-01,  3.5794309e-01,\n",
       "          6.1234212e-03,  2.9228145e-02,  5.2620971e-01, -4.3944713e-02,\n",
       "         -3.3475602e-01,  4.5284399e-01],\n",
       "        [-2.3721713e-01,  4.3277889e-01,  3.6194324e-01,  3.7453544e-01,\n",
       "          3.5655022e-02, -1.7491925e-01, -5.8504474e-01,  2.5949061e-02,\n",
       "          2.3872679e-01,  4.7887027e-02],\n",
       "        [-1.5153733e-01, -8.1931007e-01, -9.1016763e-01, -4.6404520e-01,\n",
       "         -6.4337173e+00, -1.7361808e-01, -1.0236026e+00,  1.2797149e-02,\n",
       "         -2.8408542e+00,  8.2785177e-01],\n",
       "        [-1.8894763e-01, -9.0356857e-01, -1.7780143e+00, -4.5649743e-01,\n",
       "         -8.0389690e+00, -5.5331743e-01, -1.2443937e+00,  8.6672850e-02,\n",
       "         -3.3682628e+00,  7.8849000e-01]], dtype=float32),\n",
       " array([-1.8067326e-03, -1.4081886e-02, -1.7299489e-04, -6.6928536e-04,\n",
       "         4.1686878e-01, -5.3658564e-02,  1.3925503e+00, -1.1381786e+00,\n",
       "        -2.8092726e-03, -9.7555310e-02], dtype=float32),\n",
       " array([[-0.00139549],\n",
       "        [-0.10839175],\n",
       "        [-0.00164439],\n",
       "        [ 0.00188881],\n",
       "        [-0.73782986],\n",
       "        [-0.28410622],\n",
       "        [-1.1576304 ],\n",
       "        [ 0.44956586],\n",
       "        [ 0.01018133],\n",
       "        [ 0.55200744]], dtype=float32),\n",
       " array([-1.4101866], dtype=float32)]"
      ]
     },
     "execution_count": 60,
     "metadata": {},
     "output_type": "execute_result"
    }
   ],
   "source": [
    "## Get the weights\n",
    "\n",
    "classifier.get_weights()"
   ]
  },
  {
   "cell_type": "code",
   "execution_count": null,
   "id": "e39d169a-6232-46ef-bca5-47c65a268f4e",
   "metadata": {},
   "outputs": [],
   "source": []
  },
  {
   "cell_type": "code",
   "execution_count": null,
   "id": "ca68d49c-965a-4215-bc22-5d59232ae6fe",
   "metadata": {},
   "outputs": [],
   "source": []
  },
  {
   "cell_type": "code",
   "execution_count": null,
   "id": "59ce4389-4096-4422-9595-be54fa1a5294",
   "metadata": {},
   "outputs": [],
   "source": []
  }
 ],
 "metadata": {
  "kernelspec": {
   "display_name": "Python 3 (ipykernel)",
   "language": "python",
   "name": "python3"
  },
  "language_info": {
   "codemirror_mode": {
    "name": "ipython",
    "version": 3
   },
   "file_extension": ".py",
   "mimetype": "text/x-python",
   "name": "python",
   "nbconvert_exporter": "python",
   "pygments_lexer": "ipython3",
   "version": "3.11.7"
  }
 },
 "nbformat": 4,
 "nbformat_minor": 5
}
